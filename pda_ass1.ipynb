{
 "cells": [
  {
   "cell_type": "markdown",
   "metadata": {},
   "source": [
    "### Explain the overall purpose of the package\n",
    "\n",
    "\n",
    "![Butter](https://media.giphy.com/media/ziEGYtWrYAPcc/giphy.gif \"purpose\")\n",
    "\n",
    "The Python package numpy.random is used, as the name might suggest, to generate random[<sup>1</sup>](#fn1)  data.\n",
    "\n",
    "When designing an algorithm, it is rarely feasible (if not impossible) to test every single possible set of input data that could conceivably occur. Therefore, programmers use a sample of data to test their algorithms and hypotheses, and if the chosen sample is suitably representative of the entire possible set of input data, it is not unreasonable to infer that the outcomes for the chosen sample can be used to predict the outcomes for the entire possible data set.\n",
    "\n",
    "However, choosing a suitable such sample is sometimes nontrivial. If we want to predict how good at basketball a class of 100 undergraduates might be, we could pick 10 students to be assessed by, say, Michael Jordan, or whoever would make it into Space Jam these days, and then Michael could tell us whether these 10 students were any good. We, as data scientists, could then extrapolate and assume that this held true for the entire class. \n",
    "The trick is in how to choose the right group of 10 students. If we chose, for example, the 10 tallest students in the class, it would be unwise to use Michael's decision as grounds to enter a team in the All-Priests five-a-side Over-75s Indoor Challenge Basketball Match because it is unlikely that the ten tallest students' skills would be representative of those of the rest of the class. However, if we chose the 10 students whose names came first alphabetically (maybe - I have not conducted any relevant research) as our representative sample, and Michael gave them the nod, then perhaps we could lead Craggy Institute of Technology to victory after all.\n",
    "\n",
    "This example is not quite random, but it hopefully illustrates the importance of choosing a non-biased input sample, which is one of the main principles behind the need for generating random data.\n",
    "\n",
    "A human, asked to select a random sample of students, might not be relied upon to be nonbiased - they might pick only students whom they could easily see in the first few rows of a lecture theatre, or, indeed, ones who had actually turned up to class. \n",
    "If instructed to be random, a human not only finds this difficult to do, but might introduce subconscious biases into their \"algorithms\" - for example, choosing a group with gender parity, when the actual cohort is heavily weighted towards one generator.\n",
    "\n",
    "For this reason, not to mention sheer volume, computers are much better at randomly selecting people, numbers, examples, etc. than people are.\n",
    "\n",
    "This is where numpy.random comes in. It is one of these packages which is used to generate random data. It contains dozens of functions, which can be used to randomly generate or randomly arrange data according to specified (or default) instructions and distributions (more on those later).  \n",
    "\n",
    "\n",
    "<span id=\"fn1\">[1]  We use the term somewhat loosely, as will become clear later. </span>\n",
    "\n"
   ]
  },
  {
   "cell_type": "markdown",
   "metadata": {
    "collapsed": true
   },
   "source": [
    "### Explain the use of the \"Simple Random Data\" and \"Permutations\" functions\n",
    "\n",
    "We now look at several of the functions in the Simple Random Data section of the numpy.random manual."
   ]
  },
  {
   "cell_type": "code",
   "execution_count": 24,
   "metadata": {},
   "outputs": [
    {
     "data": {
      "text/plain": [
       "array([[[ 0.03142919,  0.63641041,  0.31435598],\n",
       "        [ 0.50857069,  0.90756647,  0.24929223]]])"
      ]
     },
     "execution_count": 24,
     "metadata": {},
     "output_type": "execute_result"
    }
   ],
   "source": [
    "import numpy.random as np # loads the package (abbreviated to np for typing and tidyness purposes)\n",
    "\n",
    "np.rand(1,2,3)  # returns an n-dimensional array A with dimensions a_1, a_2,...,a_j,...,a_n, with a_j\n",
    "                # being the size of the array in the j-th dimension. The entries are randomly selected\n",
    "                # numbers on the (0,1) open interval.\n"
   ]
  },
  {
   "cell_type": "markdown",
   "metadata": {},
   "source": [
    "This _rand_ function takes as input a string of length _n_ and returns an n-dimensional array. (You can think of this as nested lists with _n_ levels; eg. if _n_=1, you just have a list of numbers; if _n_=2, you have a matrix (or a list of lists); if if _n_=3, you have a three-dimensional array (or list of matrices, or list of list of lists), etc.)\n",
    "\n",
    "The entries in this _n_-dimensional array are randomly selected numbers between 0 and 1 (not inclusive). These numbers are uniformly distributed; ie. every number within the specified interval has an equal chance of being selected.\n",
    "\n",
    "To simply illustrate this, we will generate a one-dimensional list of numbers with 100 entries, and plot this on a histogram with interval increments of, say, 0.1"
   ]
  },
  {
   "cell_type": "code",
   "execution_count": 25,
   "metadata": {},
   "outputs": [
    {
     "data": {
      "image/png": "[encoded data removed]",
      "text/plain": [
       "<matplotlib.figure.Figure at 0x7fa9683610b8>"
      ]
     },
     "metadata": {},
     "output_type": "display_data"
    }
   ],
   "source": [
    "import numpy.random as np\n",
    "import matplotlib.pyplot as plt # importing a python package for plots\n",
    "\n",
    "np.seed(42) # see later section on seeds - for now, this is used to ensure my explanations refer to the correct numbers;\n",
    "            # nothing more\n",
    "A=np.rand(100) # random selection of 100 numbers\n",
    "plt.hist(A,bins=10) # make a histogram with said numbers; bins are the number of groups into which our output is divided\n",
    "plt.show() # show the histogram"
   ]
  },
  {
   "cell_type": "markdown",
   "metadata": {},
   "source": [
    "It might not immediately seem like all of these numbers have had an equal chance of being selected - there are more than twice as many numbers between 0.1 and 0.2 as there are between 0.2 and 0.3. However, if we increase the size of our data set to 1000 random numbers, we will see things become more equal.   "
   ]
  },
  {
   "cell_type": "code",
   "execution_count": 26,
   "metadata": {},
   "outputs": [
    {
     "data": {
      "image/png": "[encoded data removed]",
      "text/plain": [
       "<matplotlib.figure.Figure at 0x7fa9684f6630>"
      ]
     },
     "metadata": {},
     "output_type": "display_data"
    }
   ],
   "source": [
    "np.seed(42)\n",
    "A=np.rand(1000) # random selection of 1000 numbers\n",
    "plt.hist(A,bins=10) \n",
    "plt.show()"
   ]
  },
  {
   "cell_type": "markdown",
   "metadata": {},
   "source": [
    "Already, things seem to be much more even, but just to cement the notion, we will try again with a million random numbers."
   ]
  },
  {
   "cell_type": "code",
   "execution_count": 27,
   "metadata": {},
   "outputs": [
    {
     "data": {
      "image/png": "[encoded data removed]",
      "text/plain": [
       "<matplotlib.figure.Figure at 0x7fa96851ce10>"
      ]
     },
     "metadata": {},
     "output_type": "display_data"
    }
   ],
   "source": [
    "np.seed(42)\n",
    "A=np.rand(1000000) # random selection of 1000000 numbers\n",
    "plt.hist(A,bins=10) \n",
    "plt.show()"
   ]
  },
  {
   "cell_type": "markdown",
   "metadata": {},
   "source": [
    "If that does not convince you the system is fair, then I don't know what will."
   ]
  },
  {
   "cell_type": "markdown",
   "metadata": {},
   "source": [
    "However, not every distribution is as uniform as the uniform distribution. Hence the nomenclature, I suppose.\n",
    "\n",
    "The most common distribution you are likely to come across, another contender for the Ronseal award, is the Normal distribution. This distribution describes data points where things tend very strongly towards being average. \n",
    "\n",
    "Consider (spurious infographic warning) how loveable you are. The vast majority of people are averagely loveable. Some people, like data scientists, much more so, and some people, like politicians, less so. Most other people will find themselves somewhere in between. This can be plotted using the _randn_ function (where the 'n' stands for 'normal'). Here, again, the function can take further inputs and generate n-dimensional arrays, but we will focus on a simple list for illustrative purposes."
   ]
  },
  {
   "cell_type": "code",
   "execution_count": 74,
   "metadata": {},
   "outputs": [
    {
     "data": {
      "image/png": "[encoded data removed]",
      "text/plain": [
       "<matplotlib.figure.Figure at 0x7fa95efbdc18>"
      ]
     },
     "metadata": {},
     "output_type": "display_data"
    }
   ],
   "source": [
    "np.seed(1)\n",
    "A=np.randn(1000000)\n",
    "B=plt.hist(A,bins=1000)\n",
    "plt.plot(-2,100,'ko',ms=12,label='Politicians'); # Adding points and twiddling with labels here\n",
    "plt.plot(2,100,'co',ms=12,label='Data Scientists'); \n",
    "plt.plot(3,100,'ro',ms=12,label='You'); \n",
    "plt.gca().axes.get_yaxis().set_visible(False)\n",
    "plt.gca().axes.get_xaxis().set_visible(False)\n",
    "plt.legend(); \n",
    "plt.show(B)"
   ]
  },
  {
   "cell_type": "code",
   "execution_count": null,
   "metadata": {
    "collapsed": true
   },
   "outputs": [],
   "source": [
    "np.seed(1)\n",
    "A=np.randn(1000,1000)\n",
    "B=plt.hist(A,bins=100)\n",
    "plt.plot(-2,100,'ko',ms=12,label='Politicians'); # Adding points and twiddling with labels here\n",
    "plt.plot(2,100,'co',ms=12,label='Data Scientists'); \n",
    "plt.plot(3,100,'ro',ms=12,label='You'); \n",
    "plt.gca().axes.get_yaxis().set_visible(False)\n",
    "plt.gca().axes.get_xaxis().set_visible(False)\n",
    "plt.legend(); \n",
    "plt.show(B)"
   ]
  },
  {
   "cell_type": "code",
   "execution_count": null,
   "metadata": {
    "collapsed": true
   },
   "outputs": [],
   "source": []
  }
 ],
 "metadata": {
  "kernelspec": {
   "display_name": "Python 3",
   "language": "python",
   "name": "python3"
  },
  "language_info": {
   "codemirror_mode": {
    "name": "ipython",
    "version": 3
   },
   "file_extension": ".py",
   "mimetype": "text/x-python",
   "name": "python",
   "nbconvert_exporter": "python",
   "pygments_lexer": "ipython3",
   "version": "3.6.3"
  }
 },
 "nbformat": 4,
 "nbformat_minor": 2
}
