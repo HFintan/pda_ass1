{
 "cells": [
  {
   "cell_type": "markdown",
   "metadata": {},
   "source": [
    "### Explain the overall purpose of the package\n",
    "\n",
    "\n",
    "![Butter](https://media.giphy.com/media/ziEGYtWrYAPcc/giphy.gif \"purpose\")\n",
    "\n",
    "The Python package numpy.random is used, as the name might suggest, to generate random[<sup>1</sup>](#fn1)  data.\n",
    "\n",
    "When designing an algorithm, it is rarely feasible (if not impossible) to test every single possible set of input data that could conceivably occur. Therefore, programmers use a sample of data to test their algorithms and hypotheses, and if the chosen sample is suitably representative of the entire possible set of input data, it is not unreasonable to infer that the outcomes for the chosen sample can be used to predict the outcomes for the entire possible data set.\n",
    "\n",
    "However, choosing a suitable such sample is sometimes nontrivial. If we want to predict how good at basketball a class of 100 undergraduates might be, we could pick 10 students to be assessed by, say, Michael Jordan, or whoever would make it into Space Jam these days, and then Michael could tell us whether these 10 students were any good. We, as data scientists, could then extrapolate and assume that this held true for the entire class. \n",
    "The trick is in how to choose the right group of 10 students. If we chose, for example, the 10 tallest students in the class, it would be unwise to use Michael's decision as grounds to enter a team in the All-Priests five-a-side Over-75s Indoor Challenge Basketball Match because it is unlikely that the ten tallest students' skills would be representative of those of the rest of the class. However, if we chose the 10 students whose names came first alphabetically (maybe - I have not conducted any relevant research) as our representative sample, and Michael gave them the nod, then perhaps we could lead Craggy Institute of Technology to victory after all.\n",
    "\n",
    "This example is not quite random, but it hopefully illustrates the importance of choosing a non-biased input sample, which is one of the main principles behind the need for generating random data.\n",
    "\n",
    "A human, asked to select a random sample of students, might not be relied upon to be nonbiased - they might pick only students whom they could easily see in the first few rows of a lecture theatre, or, indeed, ones who had actually turned up to class. \n",
    "And if trying to be random...\n",
    "\n",
    "<span id=\"fn1\">[1]  We use the term somewhat loosely, as will become clear later. </span>\n",
    "\n"
   ]
  },
  {
   "cell_type": "code",
   "execution_count": null,
   "metadata": {
    "collapsed": true
   },
   "outputs": [],
   "source": []
  }
 ],
 "metadata": {
  "kernelspec": {
   "display_name": "Python 3",
   "language": "python",
   "name": "python3"
  },
  "language_info": {
   "codemirror_mode": {
    "name": "ipython",
    "version": 3
   },
   "file_extension": ".py",
   "mimetype": "text/x-python",
   "name": "python",
   "nbconvert_exporter": "python",
   "pygments_lexer": "ipython3",
   "version": "3.6.3"
  }
 },
 "nbformat": 4,
 "nbformat_minor": 2
}
